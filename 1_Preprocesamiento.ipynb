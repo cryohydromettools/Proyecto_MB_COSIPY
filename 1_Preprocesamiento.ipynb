{
 "cells": [
  {
   "cell_type": "markdown",
   "metadata": {},
   "source": [
    "# Parte I: Preparación de datos\n",
    "\n",
    "En este cuaderno nos dedicaremos a crear los datos estáticos y meteorológicos para ejecutar el modelo [COSIPY](https://cryo-tools.org/tools/cosipy/)."
   ]
  },
  {
   "cell_type": "markdown",
   "metadata": {},
   "source": [
    "Primero, importamos las dependencias necesarias .\n",
    "\n",
    "\n",
    "```{note}\n",
    "Antes de ejecutar todo los ejercicios, asegúrate de activar el ambiente cosipy en el terminal usando.\n",
    "```\n",
    "\n",
    "```bash\n",
    "christian@hp:~$ conda activate cosipy\n",
    "```"
   ]
  },
  {
   "cell_type": "markdown",
   "metadata": {},
   "source": [
    "## Creando el archivo estático\n",
    "\n",
    "COSIPY viene con el script create_static_file.py ubicado en la carpeta de **utilities**. Este script ejecuta algunas rutinas `gdal` en la línea de comandos. Este script solo es para usuarios de UNIX y MAC en este momento. El script crea algunos archivos NetCDF intermedios (dem.nc, aspect.nc, mask.nc y slope.nc) que se eliminan automáticamente después de que se crea el archivo estático."
   ]
  },
  {
   "cell_type": "markdown",
   "metadata": {},
   "source": [
    "Aquí utilizamos un DEM y un shapefile que deben localizarse en la carpeta /data/static. El archivo estático se crea mediante:"
   ]
  },
  {
   "cell_type": "markdown",
   "metadata": {},
   "source": [
    "\n",
    "```bash\n",
    "christian@hp:~$ cd cosipy/utilities/createStatic/\n",
    "christian@hp:~$ python create_static_file.py\n",
    "```"
   ]
  },
  {
   "cell_type": "markdown",
   "metadata": {},
   "source": [
    "El comando crea un nuevo archivo **Chuecon_static_90_test.nc** en la carpeta /data/static. Los nombres y las rutas de los archivos se pueden cambiar fácilmente en el script de Python."
   ]
  },
  {
   "cell_type": "markdown",
   "metadata": {},
   "source": [
    "## Procesar datos ERA5\n",
    "\n",
    "COSIPY necesita de datos meteorológicos que incluyen radiación solar, temperatura, precipitación, velocidad del viento, presión y humedad relativa a alta resolución temporal (1 hora). Sin embargo, no siempre estos datos están disponibles en las estaciones meteorológicas. En ese sentido, el uso de datos de reanálisis como ERA5 se pueden utilizar."
   ]
  },
  {
   "cell_type": "markdown",
   "metadata": {},
   "source": [
    "ERA5 es el quinto reanálisis atmosférico importante producido por ECMWF, después del reanálisis del FGGE, ERA-15, ERA-40 y ERA-Interim. El conjunto de datos ERA5 proporciona datos horarios sobre parámetros de superficie y altitud con una resolución global de aproximadamente 31 km en 137 niveles que alcanzan hasta 1 Pa. También incluye los 10 miembros del sistema de asimilación de datos 4D-Var utilizado para producir el reanálisis, en resolución reducida (3 horas, 63 km). \n",
    "\n",
    "Actualmente, ERA5 están disponibles desde 1940, disponibles en [Climate Data Store](https://cds-beta.climate.copernicus.eu/). ERA5 reemplaza el reanálisis ERA-Interim.\n",
    "\n",
    "<img src='./img/er5_reanalisis_data.jpg' width='500'>"
   ]
  },
  {
   "cell_type": "markdown",
   "metadata": {},
   "source": [
    "### Ventajas de **ERA5**\n",
    "* Mayor resolución temporal y espacial. Esto es evidente en la representación de eventos climáticos extremos como el huracanes.\n",
    "\n",
    "* Disponible desde 1940 en adelante con actualizaciones diarias cercanas al tiempo real.\n",
    "\n",
    "* Una mejor representación de la circulación troposférica a lo largo del período de observación moderno a partir de 1979, como lo indica la evolución de la habilidad de pronóstico en la Figura 2 de [Bell et al. (2021)](https://doi.org/10.1002/qj.4174)."
   ]
  },
  {
   "cell_type": "markdown",
   "metadata": {},
   "source": [
    "Representación del huracán Florence (septiembre de 2018) en ERA5 (izquierda) y ERA-Interim (derecha).\n",
    "<img src='./img/Dee-F1.png' width='800'>"
   ]
  },
  {
   "cell_type": "markdown",
   "metadata": {},
   "source": [
    "Primero debemos descargar los datos de ERA5 con las variables necesarias y para el area del glaciar. Para el taller, hemos descargado los datos de ERA5 y se encuentran en la carpeta /data/input/ERA5/.\n",
    "\n",
    "Hemos disponibilizado un script que preprocesa los datos de ERA5 en la carpeta /utilities/ERA5_preprocessing."
   ]
  },
  {
   "cell_type": "markdown",
   "metadata": {},
   "source": [
    "Los datos de ERA5 se preprocesarán mediante:"
   ]
  },
  {
   "cell_type": "markdown",
   "metadata": {},
   "source": [
    "```bash\n",
    "christian@hp:~$ cd cosipy/utilities/ERA5_preprocessing/\n",
    "christian@hp:~$ python downscaling_era5_Chuecon.py\n",
    "```"
   ]
  },
  {
   "cell_type": "markdown",
   "metadata": {},
   "source": [
    "El comando crea un archivo **Chuecon_ERA5.csv** en la carpeta data/input/Taller."
   ]
  },
  {
   "cell_type": "code",
   "execution_count": 1,
   "metadata": {},
   "outputs": [],
   "source": [
    "import pandas as pd"
   ]
  },
  {
   "cell_type": "code",
   "execution_count": 4,
   "metadata": {},
   "outputs": [
    {
     "data": {
      "text/html": [
       "<div>\n",
       "<style scoped>\n",
       "    .dataframe tbody tr th:only-of-type {\n",
       "        vertical-align: middle;\n",
       "    }\n",
       "\n",
       "    .dataframe tbody tr th {\n",
       "        vertical-align: top;\n",
       "    }\n",
       "\n",
       "    .dataframe thead th {\n",
       "        text-align: right;\n",
       "    }\n",
       "</style>\n",
       "<table border=\"1\" class=\"dataframe\">\n",
       "  <thead>\n",
       "    <tr style=\"text-align: right;\">\n",
       "      <th></th>\n",
       "      <th>G</th>\n",
       "      <th>LWin</th>\n",
       "      <th>T2</th>\n",
       "      <th>RH2</th>\n",
       "      <th>U2</th>\n",
       "      <th>RRR</th>\n",
       "      <th>PRES</th>\n",
       "      <th>N</th>\n",
       "    </tr>\n",
       "    <tr>\n",
       "      <th>TIMESTAMP</th>\n",
       "      <th></th>\n",
       "      <th></th>\n",
       "      <th></th>\n",
       "      <th></th>\n",
       "      <th></th>\n",
       "      <th></th>\n",
       "      <th></th>\n",
       "      <th></th>\n",
       "    </tr>\n",
       "  </thead>\n",
       "  <tbody>\n",
       "    <tr>\n",
       "      <th>2020-01-01 00:00:00</th>\n",
       "      <td>8.047201</td>\n",
       "      <td>301.47305</td>\n",
       "      <td>273.13720</td>\n",
       "      <td>93.533180</td>\n",
       "      <td>2.087125</td>\n",
       "      <td>0.000000</td>\n",
       "      <td>540.294556</td>\n",
       "      <td>0.995568</td>\n",
       "    </tr>\n",
       "    <tr>\n",
       "      <th>2020-01-01 06:00:00</th>\n",
       "      <td>0.000000</td>\n",
       "      <td>263.11230</td>\n",
       "      <td>271.45508</td>\n",
       "      <td>99.468650</td>\n",
       "      <td>0.785650</td>\n",
       "      <td>0.000000</td>\n",
       "      <td>540.542541</td>\n",
       "      <td>0.992539</td>\n",
       "    </tr>\n",
       "    <tr>\n",
       "      <th>2020-01-01 12:00:00</th>\n",
       "      <td>90.144720</td>\n",
       "      <td>285.07672</td>\n",
       "      <td>269.94530</td>\n",
       "      <td>91.276985</td>\n",
       "      <td>0.245987</td>\n",
       "      <td>0.000000</td>\n",
       "      <td>540.694468</td>\n",
       "      <td>1.000000</td>\n",
       "    </tr>\n",
       "    <tr>\n",
       "      <th>2020-01-01 18:00:00</th>\n",
       "      <td>1007.282500</td>\n",
       "      <td>273.13107</td>\n",
       "      <td>277.23950</td>\n",
       "      <td>56.940365</td>\n",
       "      <td>3.041128</td>\n",
       "      <td>0.524322</td>\n",
       "      <td>540.017951</td>\n",
       "      <td>0.971275</td>\n",
       "    </tr>\n",
       "    <tr>\n",
       "      <th>2020-01-02 00:00:00</th>\n",
       "      <td>9.491558</td>\n",
       "      <td>292.96222</td>\n",
       "      <td>272.75050</td>\n",
       "      <td>93.255160</td>\n",
       "      <td>1.077859</td>\n",
       "      <td>0.000000</td>\n",
       "      <td>540.208641</td>\n",
       "      <td>0.982599</td>\n",
       "    </tr>\n",
       "    <tr>\n",
       "      <th>...</th>\n",
       "      <td>...</td>\n",
       "      <td>...</td>\n",
       "      <td>...</td>\n",
       "      <td>...</td>\n",
       "      <td>...</td>\n",
       "      <td>...</td>\n",
       "      <td>...</td>\n",
       "      <td>...</td>\n",
       "    </tr>\n",
       "    <tr>\n",
       "      <th>2021-12-30 18:00:00</th>\n",
       "      <td>592.194700</td>\n",
       "      <td>339.09778</td>\n",
       "      <td>277.59130</td>\n",
       "      <td>91.808174</td>\n",
       "      <td>0.914405</td>\n",
       "      <td>0.985646</td>\n",
       "      <td>541.105784</td>\n",
       "      <td>0.971813</td>\n",
       "    </tr>\n",
       "    <tr>\n",
       "      <th>2021-12-31 00:00:00</th>\n",
       "      <td>8.538282</td>\n",
       "      <td>308.83722</td>\n",
       "      <td>271.85938</td>\n",
       "      <td>100.000000</td>\n",
       "      <td>0.410424</td>\n",
       "      <td>0.257147</td>\n",
       "      <td>540.403608</td>\n",
       "      <td>0.983621</td>\n",
       "    </tr>\n",
       "    <tr>\n",
       "      <th>2021-12-31 06:00:00</th>\n",
       "      <td>0.000000</td>\n",
       "      <td>297.96027</td>\n",
       "      <td>271.46875</td>\n",
       "      <td>99.996170</td>\n",
       "      <td>1.313210</td>\n",
       "      <td>0.000000</td>\n",
       "      <td>540.529930</td>\n",
       "      <td>0.989932</td>\n",
       "    </tr>\n",
       "    <tr>\n",
       "      <th>2021-12-31 12:00:00</th>\n",
       "      <td>105.311615</td>\n",
       "      <td>288.65158</td>\n",
       "      <td>271.90747</td>\n",
       "      <td>88.212585</td>\n",
       "      <td>2.489101</td>\n",
       "      <td>0.000000</td>\n",
       "      <td>540.970909</td>\n",
       "      <td>0.444772</td>\n",
       "    </tr>\n",
       "    <tr>\n",
       "      <th>2021-12-31 18:00:00</th>\n",
       "      <td>940.033100</td>\n",
       "      <td>298.80057</td>\n",
       "      <td>279.14673</td>\n",
       "      <td>67.238700</td>\n",
       "      <td>2.634896</td>\n",
       "      <td>0.904616</td>\n",
       "      <td>540.416108</td>\n",
       "      <td>0.603241</td>\n",
       "    </tr>\n",
       "  </tbody>\n",
       "</table>\n",
       "<p>2924 rows × 8 columns</p>\n",
       "</div>"
      ],
      "text/plain": [
       "                               G       LWin         T2         RH2        U2  \\\n",
       "TIMESTAMP                                                                      \n",
       "2020-01-01 00:00:00     8.047201  301.47305  273.13720   93.533180  2.087125   \n",
       "2020-01-01 06:00:00     0.000000  263.11230  271.45508   99.468650  0.785650   \n",
       "2020-01-01 12:00:00    90.144720  285.07672  269.94530   91.276985  0.245987   \n",
       "2020-01-01 18:00:00  1007.282500  273.13107  277.23950   56.940365  3.041128   \n",
       "2020-01-02 00:00:00     9.491558  292.96222  272.75050   93.255160  1.077859   \n",
       "...                          ...        ...        ...         ...       ...   \n",
       "2021-12-30 18:00:00   592.194700  339.09778  277.59130   91.808174  0.914405   \n",
       "2021-12-31 00:00:00     8.538282  308.83722  271.85938  100.000000  0.410424   \n",
       "2021-12-31 06:00:00     0.000000  297.96027  271.46875   99.996170  1.313210   \n",
       "2021-12-31 12:00:00   105.311615  288.65158  271.90747   88.212585  2.489101   \n",
       "2021-12-31 18:00:00   940.033100  298.80057  279.14673   67.238700  2.634896   \n",
       "\n",
       "                          RRR        PRES         N  \n",
       "TIMESTAMP                                            \n",
       "2020-01-01 00:00:00  0.000000  540.294556  0.995568  \n",
       "2020-01-01 06:00:00  0.000000  540.542541  0.992539  \n",
       "2020-01-01 12:00:00  0.000000  540.694468  1.000000  \n",
       "2020-01-01 18:00:00  0.524322  540.017951  0.971275  \n",
       "2020-01-02 00:00:00  0.000000  540.208641  0.982599  \n",
       "...                       ...         ...       ...  \n",
       "2021-12-30 18:00:00  0.985646  541.105784  0.971813  \n",
       "2021-12-31 00:00:00  0.257147  540.403608  0.983621  \n",
       "2021-12-31 06:00:00  0.000000  540.529930  0.989932  \n",
       "2021-12-31 12:00:00  0.000000  540.970909  0.444772  \n",
       "2021-12-31 18:00:00  0.904616  540.416108  0.603241  \n",
       "\n",
       "[2924 rows x 8 columns]"
      ]
     },
     "execution_count": 4,
     "metadata": {},
     "output_type": "execute_result"
    }
   ],
   "source": [
    "df = pd.read_csv('cosipy/data/input/Taller/Chuecon_ERA5.csv', sep=',', \n",
    "                  index_col=['TIMESTAMP'], parse_dates=['TIMESTAMP'])\n",
    "df"
   ]
  },
  {
   "cell_type": "code",
   "execution_count": 10,
   "metadata": {},
   "outputs": [
    {
     "name": "stdout",
     "output_type": "stream",
     "text": [
      "Precipitación anual en mm para 2020\n",
      "246.19445156399996\n"
     ]
    },
    {
     "data": {
      "text/plain": [
       "<Axes: >"
      ]
     },
     "execution_count": 10,
     "metadata": {},
     "output_type": "execute_result"
    },
    {
     "data": {
      "image/png": "[encoded data removed]",
      "text/plain": [
       "<Figure size 640x480 with 1 Axes>"
      ]
     },
     "metadata": {},
     "output_type": "display_data"
    }
   ],
   "source": [
    "print('Precipitación anual en mm para 2020')\n",
    "print(df['RRR'].loc['20200101':'20201231'].sum())\n",
    "\n",
    "df['RRR'].loc['20200101':'20201231'].hist(bins=50)"
   ]
  },
  {
   "cell_type": "markdown",
   "metadata": {},
   "source": [
    "## Crear el archivo de entrada COSIPY"
   ]
  },
  {
   "cell_type": "markdown",
   "metadata": {},
   "source": [
    "La creación del archivo de entrada requiere la información estática (archivo) de la sección. Para convertir los datos de una estación meteorológica automática (AWS), utilizamos el script de conversión aws2cosipy.py ubicado en la carpeta /utilities/aws2cosipy. En este caso, usaremos los datos de ERA5 preprocesados previamente. El script viene con un archivo de configuración **aws2cosipyConfig.py** que define la estructura del archivo AWS y otros parámetros definidos por el usuario. Dado que el archivo de entrada proporciona información puntual, los datos se interpolan a través de tasas de caída. Los campos de radiación solar se basan en un modelo sugerido por [Wohlfahrt et al. (2016)](https://doi.org/10.1016/j.agrformet.2016.05.012). Se supone que otras variables como la velocidad del viento y la fracción de cobertura de nubes son constantes en todo el dominio."
   ]
  },
  {
   "cell_type": "markdown",
   "metadata": {},
   "source": [
    "El script se ejecuta con:"
   ]
  },
  {
   "cell_type": "markdown",
   "metadata": {},
   "source": [
    "```bash\n",
    "christian@hp:~$ cd cosipy/utilities//aws2cosipy/\n",
    "christian@hp:~$ python aws2cosipy.py -c ../../data/input/Taller/Chuecon_ERA5.csv -o ../../data/input/Taller/Chuecon_ERA5.nc -s ../../data/static/Chuecon_static_90.nc -b 20200101 -e 20201231\n",
    "```"
   ]
  },
  {
   "cell_type": "markdown",
   "metadata": {},
   "source": [
    "El comando crea un archivo **Chuecon_ERA5.nc** en la carpeta data/input/Taller."
   ]
  }
 ],
 "metadata": {
  "kernelspec": {
   "display_name": "cosipy",
   "language": "python",
   "name": "python3"
  },
  "language_info": {
   "codemirror_mode": {
    "name": "ipython",
    "version": 3
   },
   "file_extension": ".py",
   "mimetype": "text/x-python",
   "name": "python",
   "nbconvert_exporter": "python",
   "pygments_lexer": "ipython3",
   "version": "3.10.0"
  }
 },
 "nbformat": 4,
 "nbformat_minor": 2
}
