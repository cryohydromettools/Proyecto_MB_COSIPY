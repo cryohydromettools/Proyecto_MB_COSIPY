{
 "cells": [
  {
   "cell_type": "markdown",
   "metadata": {},
   "source": [
    "# Parte III: Ejecutar el modelo COSIPY"
   ]
  },
  {
   "cell_type": "markdown",
   "metadata": {},
   "source": [
    "Antes de ejecutar el modelo COSIPY debemos configurar el archivo de configuración y ver los parámetros libres del modelo."
   ]
  },
  {
   "cell_type": "markdown",
   "metadata": {},
   "source": [
    "Podemos visualizar el archivo **config.py** en la carpeta **cosipy/**. Aquí modelos modificar, el periodo de simulación, e l archivo de entrada. Además, podemos configurar para que el modelo haga una validación en línea si tenemos datos observados. Finalmente, podemos configurar para que el modelo se ejecute en forma paralelo. Esta última opción es necesaria cuando queremos ejecutar el modelo para grandes dominios o alta resolución espacial y es adecuado para ejecutarlo en computadoras de alto rendimiento (HPC)."
   ]
  },
  {
   "cell_type": "markdown",
   "metadata": {},
   "source": [
    "```{note}\n",
    "Antes de ejecutar todo los ejercicios, asegúrate de activar el ambiente cosipy en el terminal usando.\n",
    "```\n",
    "\n",
    "```bash\n",
    "christian@hp:~$ conda activate cosipy\n",
    "```"
   ]
  },
  {
   "cell_type": "markdown",
   "metadata": {},
   "source": [
    "```{note}\n",
    "Antes de ejecutar todo los ejercicios, asegúrate de activar el ambiente cosipy en el terminal usando.\n",
    "```\n",
    "\n",
    "```bash\n",
    "christian@hp:~$ cd cosipy\n",
    "christian@hp:~$ python COSIPY.py\n",
    "```"
   ]
  }
 ],
 "metadata": {
  "language_info": {
   "name": "python"
  }
 },
 "nbformat": 4,
 "nbformat_minor": 2
}
