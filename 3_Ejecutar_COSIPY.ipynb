{
 "cells": [
  {
   "cell_type": "markdown",
   "metadata": {},
   "source": [
    "# Parte III: Ejecutar el modelo COSIPY"
   ]
  },
  {
   "cell_type": "markdown",
   "metadata": {},
   "source": [
    "Antes de ejecutar el modelo COSIPY debemos configurar el archivo de configuración y ver los parámetros libres del modelo."
   ]
  },
  {
   "cell_type": "markdown",
   "metadata": {},
   "source": [
    "Podemos visualizar el archivo **config.py** en la carpeta **cosipy/**. Aquí modelos modificar, el periodo de simulación, e l archivo de entrada. Además, podemos configurar para que el modelo haga una validación en línea si tenemos datos observados. Finalmente, podemos configurar para que el modelo se ejecute en forma paralelo. Esta última opción es necesaria cuando queremos ejecutar el modelo para grandes dominios o alta resolución espacial y es adecuado para ejecutarlo en computadoras de alto rendimiento (HPC)."
   ]
  },
  {
   "cell_type": "markdown",
   "metadata": {},
   "source": [
    "```{note}\n",
    "Antes de ejecutar todo los ejercicios, asegúrate de activar el ambiente cosipy en el terminal usando.\n",
    "```\n",
    "\n",
    "```bash\n",
    "christian@hp:~$ conda activate cosipy\n",
    "```"
   ]
  },
  {
   "cell_type": "markdown",
   "metadata": {},
   "source": [
    "```{note}\n",
    "Antes de ejecutar todo los ejercicios, asegúrate de estar en la carpeta cosipy.\n",
    "```\n",
    "\n",
    "```bash\n",
    "christian@hp:~$ cd cosipy\n",
    "christian@hp:~$ python COSIPY.py\n",
    "```"
   ]
  },
  {
   "cell_type": "markdown",
   "metadata": {},
   "source": [
    "## Validación del modelo"
   ]
  },
  {
   "cell_type": "markdown",
   "metadata": {},
   "source": [
    "Se puede validar el modelo cuando tenemos datos de balance de masa observado. Por ejemplo, en el estudio de [Torres et al. (2024)](https://doi.org/10.1016/j.gloplacha.2024.104506) evaluaron el modelo COSIPY anualmente y estacionalmente para tres glaciares en las Islas Shetland del Sur, Antártida. Los resultados mostraron una buena habilidad. Vea la siguiente figura."
   ]
  },
  {
   "cell_type": "markdown",
   "metadata": {},
   "source": [
    "![Fig](img/SMBw_AWS_only_OBS_PDD_COSIPY_1980_2019_last_6h_SEB.png)"
   ]
  }
 ],
 "metadata": {
  "kernelspec": {
   "display_name": "",
   "name": ""
  },
  "language_info": {
   "name": "python"
  }
 },
 "nbformat": 4,
 "nbformat_minor": 4
}
